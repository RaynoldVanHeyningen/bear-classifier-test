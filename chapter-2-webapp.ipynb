{
 "cells": [
  {
   "cell_type": "code",
   "execution_count": 1,
   "id": "357f9345-775f-4b42-bc83-d813937792b1",
   "metadata": {
    "collapsed": true,
    "jupyter": {
     "outputs_hidden": true
    },
    "tags": []
   },
   "outputs": [
    {
     "name": "stdout",
     "output_type": "stream",
     "text": [
      "Collecting voila\n",
      "  Downloading voila-0.4.3-py3-none-any.whl (1.4 MB)\n",
      "\u001b[2K     \u001b[90m━━━━━━━━━━━━━━━━━━━━━━━━━━━━━━━━━━━━━━━━\u001b[0m \u001b[32m1.4/1.4 MB\u001b[0m \u001b[31m8.4 MB/s\u001b[0m eta \u001b[36m0:00:00\u001b[0ma \u001b[36m0:00:01\u001b[0m\n",
      "\u001b[?25hCollecting nbclient<0.8,>=0.4.0\n",
      "  Downloading nbclient-0.7.4-py3-none-any.whl (73 kB)\n",
      "\u001b[2K     \u001b[90m━━━━━━━━━━━━━━━━━━━━━━━━━━━━━━━━━━━━━━━━\u001b[0m \u001b[32m73.1/73.1 kB\u001b[0m \u001b[31m11.1 MB/s\u001b[0m eta \u001b[36m0:00:00\u001b[0m\n",
      "\u001b[?25hRequirement already satisfied: jupyter-server<3,>=1.18 in /home/drsnake/miniconda3/lib/python3.10/site-packages (from voila) (2.7.0)\n",
      "Requirement already satisfied: jupyter-client<9,>=6.1.3 in /home/drsnake/miniconda3/lib/python3.10/site-packages (from voila) (7.4.9)\n",
      "Collecting websockets>=9.0\n",
      "  Using cached websockets-11.0.3-cp310-cp310-manylinux_2_5_x86_64.manylinux1_x86_64.manylinux_2_17_x86_64.manylinux2014_x86_64.whl (129 kB)\n",
      "Requirement already satisfied: jupyterlab-server<3,>=2.3.0 in /home/drsnake/miniconda3/lib/python3.10/site-packages (from voila) (2.24.0)\n",
      "Requirement already satisfied: jupyter-core>=4.11.0 in /home/drsnake/miniconda3/lib/python3.10/site-packages (from voila) (5.3.1)\n",
      "Requirement already satisfied: nbconvert<8,>=6.4.5 in /home/drsnake/miniconda3/lib/python3.10/site-packages (from voila) (7.7.3)\n",
      "Requirement already satisfied: traitlets<6,>=5.0.3 in /home/drsnake/miniconda3/lib/python3.10/site-packages (from voila) (5.9.0)\n",
      "Requirement already satisfied: entrypoints in /home/drsnake/miniconda3/lib/python3.10/site-packages (from jupyter-client<9,>=6.1.3->voila) (0.4)\n",
      "Requirement already satisfied: nest-asyncio>=1.5.4 in /home/drsnake/miniconda3/lib/python3.10/site-packages (from jupyter-client<9,>=6.1.3->voila) (1.5.6)\n",
      "Requirement already satisfied: python-dateutil>=2.8.2 in /home/drsnake/miniconda3/lib/python3.10/site-packages (from jupyter-client<9,>=6.1.3->voila) (2.8.2)\n",
      "Requirement already satisfied: tornado>=6.2 in /home/drsnake/miniconda3/lib/python3.10/site-packages (from jupyter-client<9,>=6.1.3->voila) (6.3.2)\n",
      "Requirement already satisfied: pyzmq>=23.0 in /home/drsnake/miniconda3/lib/python3.10/site-packages (from jupyter-client<9,>=6.1.3->voila) (24.0.1)\n",
      "Requirement already satisfied: platformdirs>=2.5 in /home/drsnake/miniconda3/lib/python3.10/site-packages (from jupyter-core>=4.11.0->voila) (3.10.0)\n",
      "Requirement already satisfied: jupyter-events>=0.6.0 in /home/drsnake/miniconda3/lib/python3.10/site-packages (from jupyter-server<3,>=1.18->voila) (0.6.3)\n",
      "Requirement already satisfied: overrides in /home/drsnake/miniconda3/lib/python3.10/site-packages (from jupyter-server<3,>=1.18->voila) (7.4.0)\n",
      "Requirement already satisfied: send2trash in /home/drsnake/miniconda3/lib/python3.10/site-packages (from jupyter-server<3,>=1.18->voila) (1.8.2)\n",
      "Requirement already satisfied: terminado>=0.8.3 in /home/drsnake/miniconda3/lib/python3.10/site-packages (from jupyter-server<3,>=1.18->voila) (0.17.1)\n",
      "Requirement already satisfied: websocket-client in /home/drsnake/miniconda3/lib/python3.10/site-packages (from jupyter-server<3,>=1.18->voila) (1.6.1)\n",
      "Requirement already satisfied: nbformat>=5.3.0 in /home/drsnake/miniconda3/lib/python3.10/site-packages (from jupyter-server<3,>=1.18->voila) (5.9.2)\n",
      "Requirement already satisfied: prometheus-client in /home/drsnake/miniconda3/lib/python3.10/site-packages (from jupyter-server<3,>=1.18->voila) (0.17.1)\n",
      "Requirement already satisfied: anyio>=3.1.0 in /home/drsnake/miniconda3/lib/python3.10/site-packages (from jupyter-server<3,>=1.18->voila) (3.7.1)\n",
      "Requirement already satisfied: jupyter-server-terminals in /home/drsnake/miniconda3/lib/python3.10/site-packages (from jupyter-server<3,>=1.18->voila) (0.4.4)\n",
      "Requirement already satisfied: packaging in /home/drsnake/miniconda3/lib/python3.10/site-packages (from jupyter-server<3,>=1.18->voila) (23.0)\n",
      "Requirement already satisfied: argon2-cffi in /home/drsnake/miniconda3/lib/python3.10/site-packages (from jupyter-server<3,>=1.18->voila) (21.3.0)\n",
      "Requirement already satisfied: jinja2 in /home/drsnake/miniconda3/lib/python3.10/site-packages (from jupyter-server<3,>=1.18->voila) (3.1.2)\n",
      "Requirement already satisfied: jsonschema>=4.17.3 in /home/drsnake/miniconda3/lib/python3.10/site-packages (from jupyterlab-server<3,>=2.3.0->voila) (4.17.3)\n",
      "Requirement already satisfied: babel>=2.10 in /home/drsnake/miniconda3/lib/python3.10/site-packages (from jupyterlab-server<3,>=2.3.0->voila) (2.12.1)\n",
      "Requirement already satisfied: json5>=0.9.0 in /home/drsnake/miniconda3/lib/python3.10/site-packages (from jupyterlab-server<3,>=2.3.0->voila) (0.9.14)\n",
      "Requirement already satisfied: requests>=2.28 in /home/drsnake/miniconda3/lib/python3.10/site-packages (from jupyterlab-server<3,>=2.3.0->voila) (2.28.1)\n",
      "Requirement already satisfied: pandocfilters>=1.4.1 in /home/drsnake/miniconda3/lib/python3.10/site-packages (from nbconvert<8,>=6.4.5->voila) (1.5.0)\n",
      "Requirement already satisfied: mistune<4,>=2.0.3 in /home/drsnake/miniconda3/lib/python3.10/site-packages (from nbconvert<8,>=6.4.5->voila) (3.0.0)\n",
      "Requirement already satisfied: jupyterlab-pygments in /home/drsnake/miniconda3/lib/python3.10/site-packages (from nbconvert<8,>=6.4.5->voila) (0.2.2)\n",
      "Requirement already satisfied: pygments>=2.4.1 in /home/drsnake/miniconda3/lib/python3.10/site-packages (from nbconvert<8,>=6.4.5->voila) (2.16.1)\n",
      "Requirement already satisfied: bleach!=5.0.0 in /home/drsnake/miniconda3/lib/python3.10/site-packages (from nbconvert<8,>=6.4.5->voila) (6.0.0)\n",
      "Requirement already satisfied: markupsafe>=2.0 in /home/drsnake/miniconda3/lib/python3.10/site-packages (from nbconvert<8,>=6.4.5->voila) (2.1.1)\n",
      "Requirement already satisfied: defusedxml in /home/drsnake/miniconda3/lib/python3.10/site-packages (from nbconvert<8,>=6.4.5->voila) (0.7.1)\n",
      "Requirement already satisfied: tinycss2 in /home/drsnake/miniconda3/lib/python3.10/site-packages (from nbconvert<8,>=6.4.5->voila) (1.2.1)\n",
      "Requirement already satisfied: beautifulsoup4 in /home/drsnake/miniconda3/lib/python3.10/site-packages (from nbconvert<8,>=6.4.5->voila) (4.12.2)\n",
      "Requirement already satisfied: idna>=2.8 in /home/drsnake/miniconda3/lib/python3.10/site-packages (from anyio>=3.1.0->jupyter-server<3,>=1.18->voila) (3.4)\n",
      "Requirement already satisfied: exceptiongroup in /home/drsnake/miniconda3/lib/python3.10/site-packages (from anyio>=3.1.0->jupyter-server<3,>=1.18->voila) (1.1.2)\n",
      "Requirement already satisfied: sniffio>=1.1 in /home/drsnake/miniconda3/lib/python3.10/site-packages (from anyio>=3.1.0->jupyter-server<3,>=1.18->voila) (1.3.0)\n",
      "Requirement already satisfied: six>=1.9.0 in /home/drsnake/miniconda3/lib/python3.10/site-packages (from bleach!=5.0.0->nbconvert<8,>=6.4.5->voila) (1.16.0)\n",
      "Requirement already satisfied: webencodings in /home/drsnake/miniconda3/lib/python3.10/site-packages (from bleach!=5.0.0->nbconvert<8,>=6.4.5->voila) (0.5.1)\n",
      "Requirement already satisfied: attrs>=17.4.0 in /home/drsnake/miniconda3/lib/python3.10/site-packages (from jsonschema>=4.17.3->jupyterlab-server<3,>=2.3.0->voila) (23.1.0)\n",
      "Requirement already satisfied: pyrsistent!=0.17.0,!=0.17.1,!=0.17.2,>=0.14.0 in /home/drsnake/miniconda3/lib/python3.10/site-packages (from jsonschema>=4.17.3->jupyterlab-server<3,>=2.3.0->voila) (0.18.0)\n",
      "Requirement already satisfied: rfc3339-validator in /home/drsnake/miniconda3/lib/python3.10/site-packages (from jupyter-events>=0.6.0->jupyter-server<3,>=1.18->voila) (0.1.4)\n",
      "Requirement already satisfied: pyyaml>=5.3 in /home/drsnake/miniconda3/lib/python3.10/site-packages (from jupyter-events>=0.6.0->jupyter-server<3,>=1.18->voila) (6.0)\n",
      "Requirement already satisfied: rfc3986-validator>=0.1.1 in /home/drsnake/miniconda3/lib/python3.10/site-packages (from jupyter-events>=0.6.0->jupyter-server<3,>=1.18->voila) (0.1.1)\n",
      "Requirement already satisfied: python-json-logger>=2.0.4 in /home/drsnake/miniconda3/lib/python3.10/site-packages (from jupyter-events>=0.6.0->jupyter-server<3,>=1.18->voila) (2.0.7)\n",
      "Requirement already satisfied: fastjsonschema in /home/drsnake/miniconda3/lib/python3.10/site-packages (from nbformat>=5.3.0->jupyter-server<3,>=1.18->voila) (2.18.0)\n",
      "Requirement already satisfied: charset-normalizer<3,>=2 in /home/drsnake/miniconda3/lib/python3.10/site-packages (from requests>=2.28->jupyterlab-server<3,>=2.3.0->voila) (2.0.4)\n",
      "Requirement already satisfied: certifi>=2017.4.17 in /home/drsnake/miniconda3/lib/python3.10/site-packages (from requests>=2.28->jupyterlab-server<3,>=2.3.0->voila) (2023.7.22)\n",
      "Requirement already satisfied: urllib3<1.27,>=1.21.1 in /home/drsnake/miniconda3/lib/python3.10/site-packages (from requests>=2.28->jupyterlab-server<3,>=2.3.0->voila) (1.26.15)\n",
      "Requirement already satisfied: ptyprocess in /home/drsnake/miniconda3/lib/python3.10/site-packages (from terminado>=0.8.3->jupyter-server<3,>=1.18->voila) (0.7.0)\n",
      "Requirement already satisfied: argon2-cffi-bindings in /home/drsnake/miniconda3/lib/python3.10/site-packages (from argon2-cffi->jupyter-server<3,>=1.18->voila) (21.2.0)\n",
      "Requirement already satisfied: soupsieve>1.2 in /home/drsnake/miniconda3/lib/python3.10/site-packages (from beautifulsoup4->nbconvert<8,>=6.4.5->voila) (2.3.2.post1)\n",
      "Requirement already satisfied: webcolors>=1.11 in /home/drsnake/miniconda3/lib/python3.10/site-packages (from jsonschema>=4.17.3->jupyterlab-server<3,>=2.3.0->voila) (1.13)\n",
      "Requirement already satisfied: uri-template in /home/drsnake/miniconda3/lib/python3.10/site-packages (from jsonschema>=4.17.3->jupyterlab-server<3,>=2.3.0->voila) (1.3.0)\n",
      "Requirement already satisfied: isoduration in /home/drsnake/miniconda3/lib/python3.10/site-packages (from jsonschema>=4.17.3->jupyterlab-server<3,>=2.3.0->voila) (20.11.0)\n",
      "Requirement already satisfied: fqdn in /home/drsnake/miniconda3/lib/python3.10/site-packages (from jsonschema>=4.17.3->jupyterlab-server<3,>=2.3.0->voila) (1.5.1)\n",
      "Requirement already satisfied: jsonpointer>1.13 in /home/drsnake/miniconda3/lib/python3.10/site-packages (from jsonschema>=4.17.3->jupyterlab-server<3,>=2.3.0->voila) (2.1)\n",
      "Requirement already satisfied: cffi>=1.0.1 in /home/drsnake/miniconda3/lib/python3.10/site-packages (from argon2-cffi-bindings->argon2-cffi->jupyter-server<3,>=1.18->voila) (1.15.1)\n",
      "Requirement already satisfied: pycparser in /home/drsnake/miniconda3/lib/python3.10/site-packages (from cffi>=1.0.1->argon2-cffi-bindings->argon2-cffi->jupyter-server<3,>=1.18->voila) (2.21)\n",
      "Requirement already satisfied: arrow>=0.15.0 in /home/drsnake/miniconda3/lib/python3.10/site-packages (from isoduration->jsonschema>=4.17.3->jupyterlab-server<3,>=2.3.0->voila) (1.2.3)\n",
      "Installing collected packages: websockets, nbclient, voila\n",
      "  Attempting uninstall: nbclient\n",
      "    Found existing installation: nbclient 0.8.0\n",
      "    Uninstalling nbclient-0.8.0:\n",
      "      Successfully uninstalled nbclient-0.8.0\n",
      "Successfully installed nbclient-0.7.4 voila-0.4.3 websockets-11.0.3\n"
     ]
    }
   ],
   "source": [
    "!pip install voila"
   ]
  },
  {
   "cell_type": "code",
   "execution_count": 2,
   "id": "124cd668-6e6a-48ac-8b1b-8c392b0e8086",
   "metadata": {
    "tags": []
   },
   "outputs": [
    {
     "name": "stdout",
     "output_type": "stream",
     "text": [
      "Enabling: voila\n",
      "- Writing config: /home/drsnake/miniconda3/etc/jupyter\n",
      "    - Validating...\n",
      "      voila 0.4.3 \u001b[32mOK\u001b[0m\n"
     ]
    }
   ],
   "source": [
    "!jupyter serverextension enable --sys-prefix voila"
   ]
  },
  {
   "cell_type": "code",
   "execution_count": 11,
   "id": "b6e6908f-96cf-4ac9-980f-5c7e7e4603ed",
   "metadata": {
    "tags": []
   },
   "outputs": [
    {
     "data": {
      "application/vnd.jupyter.widget-view+json": {
       "model_id": "7b17d32ce94b4d80ab0ab95e7918020e",
       "version_major": 2,
       "version_minor": 0
      },
      "text/plain": [
       "VBox(children=(Label(value='Select your bear'), FileUpload(value=(), description='Upload'), Button(description…"
      ]
     },
     "execution_count": 11,
     "metadata": {},
     "output_type": "execute_result"
    }
   ],
   "source": [
    "from fastai.vision.widgets import *\n",
    "from utils import *\n",
    "from io import *\n",
    "\n",
    "path = Path()\n",
    "learn_inf = load_learner(path/'export.pkl')\n",
    "btn_upload = widgets.FileUpload()\n",
    "out_pl = widgets.Output()\n",
    "out_pl.clear_output()\n",
    "btn_run = widgets.Button(description=\"Classify\")\n",
    "lbl_pred = widgets.Label()\n",
    "lbl_pred.value = f'Prediction'\n",
    "\n",
    "def on_click_classify(change):\n",
    "    print('Classifying...')\n",
    "    img = Image.open(BytesIO(btn_upload.value[-1].content))\n",
    "\n",
    "    out_pl = widgets.Output()\n",
    "    out_pl.clear_output()\n",
    "\n",
    "    with out_pl:\n",
    "        display(img.to_thumb(128, 128))\n",
    "        \n",
    "    pred, pred_idx, probs = learn_inf.predict(img)\n",
    "    lbl_pred.value = f'Prediction: {pred} | Probability: {probs[pred_idx]:.04f}'\n",
    "    \n",
    "btn_run.on_click(on_click_classify)\n",
    "\n",
    "VBox([widgets.Label('Select your bear'),\n",
    "      btn_upload,\n",
    "      btn_run,\n",
    "      out_pl,\n",
    "      lbl_pred])"
   ]
  },
  {
   "cell_type": "code",
   "execution_count": null,
   "id": "cbfb22fa-634d-4ce3-9aa7-602fd83ad00f",
   "metadata": {},
   "outputs": [],
   "source": []
  }
 ],
 "metadata": {
  "kernelspec": {
   "display_name": "Python 3 (ipykernel)",
   "language": "python",
   "name": "python3"
  },
  "language_info": {
   "codemirror_mode": {
    "name": "ipython",
    "version": 3
   },
   "file_extension": ".py",
   "mimetype": "text/x-python",
   "name": "python",
   "nbconvert_exporter": "python",
   "pygments_lexer": "ipython3",
   "version": "3.10.10"
  }
 },
 "nbformat": 4,
 "nbformat_minor": 5
}
